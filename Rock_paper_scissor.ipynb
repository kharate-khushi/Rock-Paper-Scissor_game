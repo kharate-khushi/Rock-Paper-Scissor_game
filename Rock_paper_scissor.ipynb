{
  "nbformat": 4,
  "nbformat_minor": 0,
  "metadata": {
    "colab": {
      "provenance": []
    },
    "kernelspec": {
      "name": "python3",
      "display_name": "Python 3"
    },
    "language_info": {
      "name": "python"
    }
  },
  "cells": [
    {
      "cell_type": "code",
      "execution_count": 1,
      "metadata": {
        "colab": {
          "base_uri": "https://localhost:8080/"
        },
        "id": "aq2mFwZBFx8i",
        "outputId": "7960998e-41aa-42e1-a74b-1e8ab8fad3db"
      },
      "outputs": [
        {
          "output_type": "stream",
          "name": "stdout",
          "text": [
            "Rock Paper Scissor Game\n",
            "Winning Rules as follows:\n",
            "Rock vs paper -> paper wins\n",
            "Rock vs scissor -> Rock wins\n",
            "Paper vs scissor -> scissor wins\n",
            "\n",
            "Player 1, enter choice (rock, paper, scissor): paper\n",
            "Player 2, enter choice (rock, paper, scissor): scissor\n",
            "\n",
            "Player 1 chose: paper\n",
            "Player 2 chose: scissor\n",
            "\n",
            "Player 2 wins!\n"
          ]
        }
      ],
      "source": [
        "def get_choice(player):\n",
        "    choice = input(f\"{player}, enter choice (rock, paper, scissor): \").lower()\n",
        "    while choice not in ['rock', 'paper', 'scissor']:\n",
        "        print(\"Invalid choice. Please choose either rock, paper, or scissor.\")\n",
        "        choice = input(f\"{player}, enter choice (rock, paper, scissor): \").lower()\n",
        "    return choice\n",
        "\n",
        "def determine_winner(player1_choice, player2_choice):\n",
        "    if player1_choice == player2_choice:\n",
        "        return \"It's a tie!\"\n",
        "    elif (player1_choice == 'rock' and player2_choice == 'scissor') or \\\n",
        "         (player1_choice == 'paper' and player2_choice == 'rock') or \\\n",
        "         (player1_choice == 'scissor' and player2_choice == 'paper'):\n",
        "        return \"Player 1 wins!\"\n",
        "    else:\n",
        "        return \"Player 2 wins!\"\n",
        "\n",
        "def play_game():\n",
        "    print(\"Rock Paper Scissor Game\")\n",
        "    print(\"Winning Rules as follows:\")\n",
        "    print(\"Rock vs paper -> paper wins\")\n",
        "    print(\"Rock vs scissor -> Rock wins\")\n",
        "    print(\"Paper vs scissor -> scissor wins\")\n",
        "    print()\n",
        "\n",
        "    player1_choice = get_choice(\"Player 1\")\n",
        "    player2_choice = get_choice(\"Player 2\")\n",
        "\n",
        "    print(f\"\\nPlayer 1 chose: {player1_choice}\")\n",
        "    print(f\"Player 2 chose: {player2_choice}\")\n",
        "\n",
        "    result = determine_winner(player1_choice, player2_choice)\n",
        "    print(f\"\\n{result}\")\n",
        "\n",
        "if __name__ == \"__main__\":\n",
        "    play_game()\n"
      ]
    },
    {
      "cell_type": "code",
      "source": [],
      "metadata": {
        "id": "29asYb32F3Rk"
      },
      "execution_count": 1,
      "outputs": []
    }
  ]
}